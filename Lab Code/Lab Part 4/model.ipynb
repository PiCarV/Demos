{
 "cells": [
  {
   "cell_type": "markdown",
   "metadata": {},
   "source": [
    "# Lab Part 4\n",
    "# Neural Network Model Template\n",
    "\n",
    "#\n",
    "#\n",
    "\n"
   ]
  },
  {
   "cell_type": "markdown",
   "metadata": {},
   "source": [
    "## Part 1: Unpack our data\n",
    "All we do is install 7zip and then use pyunpack to extract the files "
   ]
  },
  {
   "cell_type": "code",
   "execution_count": null,
   "metadata": {},
   "outputs": [],
   "source": [
    "# unzip the data\n",
    "\n",
    "#install dependencies\n",
    "!apt-get update\n",
    "!apt-get install -y p7zip-full\n",
    "!pip install pyunpack\n",
    "!pip install patool\n",
    "\n",
    "from pyunpack import Archive\n",
    "Archive('data.7z').extractall(\"/notebooks\")"
   ]
  },
  {
   "cell_type": "markdown",
   "metadata": {},
   "source": [
    "## Part 2: Define where we store our data\n",
    "This is pretty simple our folder structure looks like this\n",
    "- data/\n",
    "    - train/\n",
    "    - test/\n",
    "\n",
    "So we simply create 2 variables to store these locations"
   ]
  },
  {
   "cell_type": "code",
   "execution_count": 9,
   "metadata": {},
   "outputs": [],
   "source": [
    "data_dir = 'data/' # change this to your data directory\n",
    "train_dir = data_dir + 'train/' # directory for training images\n",
    "test_dir = data_dir + 'test/' # directory for test images we use the test images to make sure our model is working well"
   ]
  },
  {
   "cell_type": "markdown",
   "metadata": {},
   "source": [
    "## Part 3: Loading in the data\n",
    "### Dealing with images\n",
    "Our image files that we are using for training are pretty large. Your computer may crash if we loaded them all at once so instead we will just store where the images are stored. Later you will see how we can automatically load these files when we run our code. One thing to note is that each image file is named (somenumber).jpg that number is the number of milliseconds since 1 January 1970 (Unix Time) when the file was recorded. This means that we will never have any overlapping files. Unfortunately this does mean we will have to sort the times from smallest to largest to make sure that they correspond with the steering angles.\n",
    "\n",
    "### Dealing with steering angles\n",
    "We store our steering values as a csv (comma separated values) file. Python has a built in csv module so we can easily use it to load in all the steering values into a list. These don't take up much ram so it doesn't matter if we load them all in at once.\n",
    "\n",
    "### Making sure the files line up\n",
    "Since we sort our images, and the csv file is read in line by line the files will line up with their correct steering angles. It looks something like this. If we mess this up then the data being fed into your network would be totally incoherent. Garbage in Garbage out.\n",
    "\n",
    "train_img =   | image 1    | image 2    | image 3    | image 4    | image 5    |...\n",
    "\n",
    "train_steer = | steering 1 | steering 2 | steering 3 | steering 4 | steering 5 |..."
   ]
  },
  {
   "cell_type": "code",
   "execution_count": 10,
   "metadata": {},
   "outputs": [],
   "source": [
    "import csv\n",
    "import os\n",
    "# lets make a function that loads the images and labels\n",
    "def load_data(directory):\n",
    "    image__paths = []\n",
    "    csv_file = \"\"\n",
    "    for file in os.listdir(directory): # for each file in the directory\n",
    "        if file.endswith(\".jpg\"): # if the file is an image\n",
    "            image__paths.append(directory + file) # add the image path to the list\n",
    "        if file.endswith(\".csv\"): # if the file is a csv file\n",
    "            csv_file = file # we save it for later\n",
    "\n",
    "    # now our files are in the train list we need to sort them from smallest file name to largest. The file name is the exact time the image was taken.\n",
    "    image__paths.sort(key=lambda x: int(x.split('/')[-1][:-4])) # the lambda function returns the numbers in the file name\n",
    "\n",
    "    # now we need to read the csv file and get the steering angles\n",
    "    with open(directory + csv_file, 'r') as f:\n",
    "        reader = csv.reader(f) # create a reader object\n",
    "        steering_angles = [] # create a list to store the steering angles\n",
    "        for row in reader: # for each row in the csv file\n",
    "            steering_angles.append(float(row[0])) # add the steering angle to the list\n",
    "    return image__paths, steering_angles # return the image paths and steering angles"
   ]
  },
  {
   "cell_type": "code",
   "execution_count": 4,
   "metadata": {},
   "outputs": [],
   "source": [
    "train_img, train_steer = load_data(train_dir) # load the training data\n",
    "test_img, test_steer = load_data(test_dir) # load the test data"
   ]
  },
  {
   "cell_type": "markdown",
   "metadata": {},
   "source": [
    "## Part 4: Loading the images on the fly\n",
    "\n",
    "Now we create a data generator that automatically fetches the images when we need it.\n",
    "This generator will also apply our image processing that we learnt about in our last lab.\n",
    "This generator takes in a batch_size which means we can increase or decrease the amount of data returned based on how much RAM our computer has."
   ]
  },
  {
   "cell_type": "code",
   "execution_count": 11,
   "metadata": {},
   "outputs": [],
   "source": [
    "import numpy as np\n",
    "import cv2 as cv\n",
    "\n",
    "def batch_generator(image_paths, steering_angles, batch_size):\n",
    "    while True:\n",
    "        for start in range(0, len(image_paths), batch_size):\n",
    "            x_batch = []\n",
    "            y_batch = []\n",
    "            end = min(start + batch_size, len(image_paths))\n",
    "            ids_batch = image_paths[start:end]\n",
    "            for id in ids_batch:\n",
    "                img = cv.imread(id)\n",
    "                img = cv.resize(img, (100, 66))\n",
    "                # we convert the frame to the HSV color space\n",
    "                hsv = cv.cvtColor(img, cv.COLOR_BGR2HSV)\n",
    "                # blur the image to remove noise\n",
    "                blur = cv.GaussianBlur(hsv, (5, 5), 0)\n",
    "                # mask the image to get only the desired colors\n",
    "                mask = cv.inRange(blur, (40, 25, 73), (93, 194, 245))\n",
    "                # we erode and dilate to remove noise\n",
    "                erode = cv.erode(mask, np.ones((5, 5), np.uint8), iterations=1)\n",
    "                dilate = cv.dilate(erode, np.ones((5, 5), np.uint8), iterations=1)\n",
    "                # we smooth the image with some gaussian blur\n",
    "                blur = cv.GaussianBlur(dilate, (5, 5), 0)\n",
    "                x_batch.append(blur)\n",
    "                y_batch.append(steering_angles[image_paths.index(id)])\n",
    "            x_batch = np.array(x_batch, np.float32)\n",
    "            y_batch = np.array(y_batch, np.float32)\n",
    "            yield x_batch, y_batch\n"
   ]
  },
  {
   "cell_type": "code",
   "execution_count": 12,
   "metadata": {},
   "outputs": [
    {
     "data": {
      "text/plain": [
       "<matplotlib.image.AxesImage at 0x144740f1160>"
      ]
     },
     "execution_count": 12,
     "metadata": {},
     "output_type": "execute_result"
    },
    {
     "data": {
      "image/png": "[encoded data removed]",
      "text/plain": [
       "<Figure size 432x288 with 1 Axes>"
      ]
     },
     "metadata": {
      "needs_background": "light"
     },
     "output_type": "display_data"
    }
   ],
   "source": [
    "# display the first image and steering angle\n",
    "import matplotlib.pyplot as plt\n",
    "x_batch, y_batch = next(batch_generator(train_img, train_steer, 500))\n",
    "plt.imshow(x_batch[145])"
   ]
  },
  {
   "cell_type": "markdown",
   "metadata": {},
   "source": [
    "## Part 5: This is where you will create your model\n",
    "try modifying the layers to try to get the lowest mse score,\n",
    "This is going to require some trial and error so make sure you spend some time experimenting."
   ]
  },
  {
   "cell_type": "code",
   "execution_count": 7,
   "metadata": {},
   "outputs": [
    {
     "name": "stdout",
     "output_type": "stream",
     "text": [
      "Epoch 1/25\n",
      "5/5 [==============================] - 4s 769ms/step - loss: 8215.7061 - mse: 8215.7070 - val_loss: 8214.7012 - val_mse: 8214.7002\n",
      "Epoch 2/25\n",
      "5/5 [==============================] - 2s 610ms/step - loss: 8213.8740 - mse: 8213.8730 - val_loss: 8212.7441 - val_mse: 8212.7451\n",
      "Epoch 3/25\n",
      "5/5 [==============================] - 2s 617ms/step - loss: 8211.8750 - mse: 8211.8750 - val_loss: 8210.6758 - val_mse: 8210.6768\n",
      "Epoch 4/25\n",
      "5/5 [==============================] - 2s 612ms/step - loss: 8209.7471 - mse: 8209.7461 - val_loss: 8208.4707 - val_mse: 8208.4707\n",
      "Epoch 5/25\n",
      "5/5 [==============================] - 2s 601ms/step - loss: 8207.4980 - mse: 8207.4990 - val_loss: 8206.1592 - val_mse: 8206.1602\n",
      "Epoch 6/25\n",
      "5/5 [==============================] - 2s 612ms/step - loss: 8205.1514 - mse: 8205.1514 - val_loss: 8203.7539 - val_mse: 8203.7520\n",
      "Epoch 7/25\n",
      "5/5 [==============================] - 3s 626ms/step - loss: 8202.7041 - mse: 8202.7051 - val_loss: 8201.2402 - val_mse: 8201.2412\n",
      "Epoch 8/25\n",
      "5/5 [==============================] - 2s 614ms/step - loss: 8200.1504 - mse: 8200.1504 - val_loss: 8198.6152 - val_mse: 8198.6172\n",
      "Epoch 9/25\n",
      "5/5 [==============================] - 2s 617ms/step - loss: 8197.4756 - mse: 8197.4766 - val_loss: 8195.8730 - val_mse: 8195.8730\n",
      "Epoch 10/25\n",
      "5/5 [==============================] - 2s 615ms/step - loss: 8194.6953 - mse: 8194.6953 - val_loss: 8193.0146 - val_mse: 8193.0127\n",
      "Epoch 11/25\n",
      "5/5 [==============================] - 2s 616ms/step - loss: 8191.7686 - mse: 8191.7686 - val_loss: 8189.9541 - val_mse: 8189.9531\n",
      "Epoch 12/25\n",
      "5/5 [==============================] - 2s 608ms/step - loss: 8188.5967 - mse: 8188.5972 - val_loss: 8186.6250 - val_mse: 8186.6235\n",
      "Epoch 13/25\n",
      "5/5 [==============================] - 2s 613ms/step - loss: 8185.1660 - mse: 8185.1655 - val_loss: 8183.0498 - val_mse: 8183.0498\n",
      "Epoch 14/25\n",
      "5/5 [==============================] - 2s 610ms/step - loss: 8181.5000 - mse: 8181.4995 - val_loss: 8179.2451 - val_mse: 8179.2451\n",
      "Epoch 15/25\n",
      "5/5 [==============================] - 2s 606ms/step - loss: 8177.5679 - mse: 8177.5679 - val_loss: 8175.0718 - val_mse: 8175.0723\n",
      "Epoch 16/25\n",
      "5/5 [==============================] - 2s 602ms/step - loss: 8173.2026 - mse: 8173.2026 - val_loss: 8170.4746 - val_mse: 8170.4727\n",
      "Epoch 17/25\n",
      "5/5 [==============================] - 2s 612ms/step - loss: 8168.4741 - mse: 8168.4741 - val_loss: 8165.5483 - val_mse: 8165.5479\n",
      "Epoch 18/25\n",
      "5/5 [==============================] - 2s 600ms/step - loss: 8163.4209 - mse: 8163.4194 - val_loss: 8160.3037 - val_mse: 8160.3052\n",
      "Epoch 19/25\n",
      "5/5 [==============================] - 2s 609ms/step - loss: 8158.0469 - mse: 8158.0469 - val_loss: 8154.7305 - val_mse: 8154.7310\n",
      "Epoch 20/25\n",
      "5/5 [==============================] - 2s 607ms/step - loss: 8152.3354 - mse: 8152.3354 - val_loss: 8148.8115 - val_mse: 8148.8105\n",
      "Epoch 21/25\n",
      "5/5 [==============================] - 3s 628ms/step - loss: 8146.2700 - mse: 8146.2705 - val_loss: 8142.5278 - val_mse: 8142.5269\n",
      "Epoch 22/25\n",
      "5/5 [==============================] - 2s 612ms/step - loss: 8139.8320 - mse: 8139.8325 - val_loss: 8135.8579 - val_mse: 8135.8569\n",
      "Epoch 23/25\n",
      "5/5 [==============================] - 2s 614ms/step - loss: 8133.0010 - mse: 8133.0015 - val_loss: 8128.7798 - val_mse: 8128.7793\n",
      "Epoch 24/25\n",
      "5/5 [==============================] - 2s 609ms/step - loss: 8125.7524 - mse: 8125.7524 - val_loss: 8121.2705 - val_mse: 8121.2710\n",
      "Epoch 25/25\n",
      "5/5 [==============================] - 2s 617ms/step - loss: 8118.0615 - mse: 8118.0615 - val_loss: 8113.3057 - val_mse: 8113.3062\n"
     ]
    }
   ],
   "source": [
    "import keras as ks\n",
    "from keras.models import Sequential\n",
    "from keras.layers import Dense, InputLayer\n",
    "\n",
    "# a sequential model is a model that is made up of layers\n",
    "model = Sequential()\n",
    "# the input layer is the first layer in the model\n",
    "model.add(InputLayer(input_shape=(100, 66, 1)))\n",
    "\n",
    "# try modifying the number of nodes in the hidden layer to see how it affects the model\n",
    "# you can also try changing the activation function to see how it affects the model\n",
    "# adding more layers to the model may also help\n",
    "model.add(Dense(32, activation='relu'))\n",
    "model.add(Dense(16, activation='relu'))\n",
    "model.add(Dense(1 ,activation='linear'))\n",
    "\n",
    "batch_size = 32 # increase this if you have a lot of memory\n",
    "train_gen = batch_generator(train_img, train_steer, batch_size)\n",
    "test_gen = batch_generator(test_img, test_steer, batch_size)\n",
    "\n",
    "\n",
    "model.compile(optimizer='adam', loss='mse', metrics=[\"mse\"]) # we will keep track of the mean squared error using mse\n",
    "hist = model.fit(train_gen, steps_per_epoch=np.ceil(float(len(train_img)) / float(batch_size)), validation_data=test_gen, validation_steps=25, epochs=25) # changing the number of epochs may help the model!"
   ]
  },
  {
   "cell_type": "markdown",
   "metadata": {},
   "source": [
    "Have a look at the graph generated below. With this you can get an idea of whether your model is training well. You should want to see both lines trend downwards."
   ]
  },
  {
   "cell_type": "code",
   "execution_count": 8,
   "metadata": {},
   "outputs": [
    {
     "data": {
      "image/png": "[encoded data removed]",
      "text/plain": [
       "<Figure size 432x288 with 1 Axes>"
      ]
     },
     "metadata": {
      "needs_background": "light"
     },
     "output_type": "display_data"
    }
   ],
   "source": [
    "import matplotlib.pyplot as plt\n",
    "\n",
    "# lets plot the model's history\n",
    "plt.plot(hist.history['loss'])\n",
    "plt.plot(hist.history['val_loss'])\n",
    "plt.title('model mean squared error loss')\n",
    "plt.ylabel('mean squared error loss')\n",
    "plt.xlabel('epoch')\n",
    "plt.legend(['training set', 'validation set'], loc='upper right')\n",
    "plt.show()\n"
   ]
  },
  {
   "cell_type": "markdown",
   "metadata": {},
   "source": [
    "## Part 6: export your model\n",
    "Once you are happy with your model you can export it by running the code below.\n",
    "This will save your model as model.h5. You can change this to be more descriptive. I also recommend saving multiple models with different training settings so you have a couple to experiment with. "
   ]
  },
  {
   "cell_type": "code",
   "execution_count": 40,
   "metadata": {},
   "outputs": [],
   "source": [
    "model.save('model.h5') # save the model change the name to something more descriptive if you want"
   ]
  }
 ],
 "metadata": {
  "kernelspec": {
   "display_name": "Python 3.9.6 64-bit",
   "language": "python",
   "name": "python3"
  },
  "language_info": {
   "codemirror_mode": {
    "name": "ipython",
    "version": 3
   },
   "file_extension": ".py",
   "mimetype": "text/x-python",
   "name": "python",
   "nbconvert_exporter": "python",
   "pygments_lexer": "ipython3",
   "version": "3.9.6"
  },
  "orig_nbformat": 4,
  "vscode": {
   "interpreter": {
    "hash": "7b8c902a5db4bd22b43399a271754202218dc4d05c7622b2f621f708dd6b6e04"
   }
  }
 },
 "nbformat": 4,
 "nbformat_minor": 2
}
